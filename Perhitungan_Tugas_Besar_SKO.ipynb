{
  "nbformat": 4,
  "nbformat_minor": 0,
  "metadata": {
    "colab": {
      "name": " Perhitungan Tugas Besar SKO.ipynb",
      "provenance": [],
      "authorship_tag": "ABX9TyM+GfQmlzAObJ3a/dIRvw8a",
      "include_colab_link": true
    },
    "kernelspec": {
      "name": "python3",
      "display_name": "Python 3"
    },
    "language_info": {
      "name": "python"
    }
  },
  "cells": [
    {
      "cell_type": "markdown",
      "metadata": {
        "id": "view-in-github",
        "colab_type": "text"
      },
      "source": [
        "<a href=\"https://colab.research.google.com/github/ferditobing/Pemrograman-Python/blob/main/Perhitungan_Tugas_Besar_SKO.ipynb\" target=\"_parent\"><img src=\"https://colab.research.google.com/assets/colab-badge.svg\" alt=\"Open In Colab\"/></a>"
      ]
    },
    {
      "cell_type": "markdown",
      "source": [
        "# Perhitungan Tugas Besar SKO\n",
        "Saya menggunakan parameter uji Link Power Budget dan Rise Time Budget"
      ],
      "metadata": {
        "id": "He9G96IhicFH"
      }
    },
    {
      "cell_type": "code",
      "source": [
        "from math import log10, sqrt"
      ],
      "metadata": {
        "id": "IRw0Slmih6_S"
      },
      "execution_count": 1,
      "outputs": []
    },
    {
      "cell_type": "code",
      "source": [
        "#-- Kabel FO G.625 - SI-SM\n",
        "L=14.8 #km\n",
        "Hspl=2 #km\n",
        "disp_M=7e-12 #s/km.nm\n",
        "alpha_f=0.3 #dB/km"
      ],
      "metadata": {
        "id": "JRJo8UJ_iDFx"
      },
      "execution_count": 2,
      "outputs": []
    },
    {
      "cell_type": "code",
      "source": [
        "##--Pengirim\n",
        "Ptx_db= 0 #mw\n",
        "spektral=1 #nm\n",
        "t_tx=2e-13 #s\n",
        "Mod_NRZ=0.7 #NRZ\n",
        "Mod_RZ=0.35 #RZ\n",
        "Br=1e6 # 2.5 Gbps\n",
        "Tb=1/Br #s"
      ],
      "metadata": {
        "id": "7Xs_0yeDiFX2"
      },
      "execution_count": 3,
      "outputs": []
    },
    {
      "cell_type": "code",
      "source": [
        "#--Pengirim\n",
        "Sensitivitas= -28 #dBm\n",
        "t_rx=2e-13 #s"
      ],
      "metadata": {
        "id": "700OAee_iGxB"
      },
      "execution_count": 4,
      "outputs": []
    },
    {
      "cell_type": "code",
      "source": [
        "#--- Redaman kanal\n",
        "N_c=2\n",
        "alpha_c=1 #1 dB/titik\n",
        "N_sp=(L/Hspl)-1\n",
        "alpha_sp=0.3 #dB/titik\n",
        "Ms=3 #dB"
      ],
      "metadata": {
        "id": "QuREWW5jiKpC"
      },
      "execution_count": 5,
      "outputs": []
    },
    {
      "cell_type": "markdown",
      "source": [
        "## Link Power Budget\n",
        "Menggunakan Rumus\n",
        "\n",
        "$$\\alpha_T= 2\\alpha_c+N_{sp}\\alpha_{sp}+L\\alpha_f +M_s$$"
      ],
      "metadata": {
        "id": "jknPwN3oiQGO"
      }
    },
    {
      "cell_type": "code",
      "source": [
        "alpha_t=N_c*alpha_c+N_sp*alpha_sp+L*alpha_f+Ms\n",
        "print(\"Redaman Kabel \",alpha_t, \"dB\")"
      ],
      "metadata": {
        "colab": {
          "base_uri": "https://localhost:8080/"
        },
        "id": "A147HIqjiRfO",
        "outputId": "f1ec77e2-0b11-4d7c-a0a1-efb64d0c62fb"
      },
      "execution_count": 6,
      "outputs": [
        {
          "output_type": "stream",
          "name": "stdout",
          "text": [
            "Redaman Kabel  11.36 dB\n"
          ]
        }
      ]
    },
    {
      "cell_type": "code",
      "source": [
        "Prx=Ptx_db-alpha_t"
      ],
      "metadata": {
        "id": "H7dB7PEmime-"
      },
      "execution_count": 7,
      "outputs": []
    },
    {
      "cell_type": "code",
      "source": [
        "Prx"
      ],
      "metadata": {
        "colab": {
          "base_uri": "https://localhost:8080/"
        },
        "id": "iDQVady_iqkJ",
        "outputId": "8f35ee67-f698-4ecb-ecb8-c1562b602943"
      },
      "execution_count": 8,
      "outputs": [
        {
          "output_type": "execute_result",
          "data": {
            "text/plain": [
              "-11.36"
            ]
          },
          "metadata": {},
          "execution_count": 8
        }
      ]
    },
    {
      "cell_type": "code",
      "source": [
        "if Prx > Sensitivitas:\n",
        "    print(\"LPB, terpenuhi\")\n",
        "else:\n",
        "    print(\"Hitung Ulang !\")"
      ],
      "metadata": {
        "colab": {
          "base_uri": "https://localhost:8080/"
        },
        "id": "TzJ68Zk5is8j",
        "outputId": "440ae876-8a0d-4c41-979e-1cf29f59f920"
      },
      "execution_count": 9,
      "outputs": [
        {
          "output_type": "stream",
          "name": "stdout",
          "text": [
            "LPB, terpenuhi\n"
          ]
        }
      ]
    },
    {
      "cell_type": "markdown",
      "source": [
        "## Rise Time Budget\n",
        "Dengan menggunakan Rumus\n",
        "\n",
        "$$t_{sys}=\\sqrt{t_{tx}^2+t_{mat}^2+t_{mod}^2+t_{wg}^2+t_{rx}}. $$"
      ],
      "metadata": {
        "id": "h0pouxuKixOd"
      }
    },
    {
      "cell_type": "code",
      "source": [
        "t_mat=disp_M*L*spektral\n",
        "t_wg=0 #diabaikan\n",
        "t_mod=0 #SM\n",
        "\n",
        "t_sys=sqrt(t_tx**2+t_mat**2+t_mod**2+t_wg**2+t_rx)"
      ],
      "metadata": {
        "id": "A_U-0mJfix1t"
      },
      "execution_count": 10,
      "outputs": []
    },
    {
      "cell_type": "code",
      "source": [
        "t_sys"
      ],
      "metadata": {
        "colab": {
          "base_uri": "https://localhost:8080/"
        },
        "id": "iGUJDKVwi0xc",
        "outputId": "b2050825-bb22-41bd-a82b-f5404e56141b"
      },
      "execution_count": 11,
      "outputs": [
        {
          "output_type": "execute_result",
          "data": {
            "text/plain": [
              "4.4721360749981657e-07"
            ]
          },
          "metadata": {},
          "execution_count": 11
        }
      ]
    },
    {
      "cell_type": "code",
      "source": [
        "if (Tb*Mod_NRZ > t_sys) & (Tb*Mod_RZ > t_sys):\n",
        "    print(\"RTB, terpenuhi\")\n",
        "elif Tb*Mod_NRZ > t_sys:\n",
        "    print(\"RTB untuk NRZ, terpenuhi\")\n",
        "elif Tb*Mod_RZ > t_sys:\n",
        "    print(\"RTB untuk RZ, terpenuhi\")\n",
        "else:\n",
        "    print(\"Hitung Ulang !!\")"
      ],
      "metadata": {
        "colab": {
          "base_uri": "https://localhost:8080/"
        },
        "id": "ubU1Qtjdi2gR",
        "outputId": "25c6c6e6-94ad-4ad4-b86a-ff8bdcce555c"
      },
      "execution_count": 12,
      "outputs": [
        {
          "output_type": "stream",
          "name": "stdout",
          "text": [
            "RTB untuk NRZ, terpenuhi\n"
          ]
        }
      ]
    }
  ]
}